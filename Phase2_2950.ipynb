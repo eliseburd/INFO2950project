{
 "cells": [
  {
   "cell_type": "markdown",
   "metadata": {},
   "source": [
    "# Phase 2- INFO 2950 Project"
   ]
  },
  {
   "cell_type": "markdown",
   "metadata": {},
   "source": [
    "## Potential Research Questions \n",
    "(Listed in perceived order of significance)\n",
    "\n",
    "### - What do guest reviews tell us about the population's preferred listing type?\n",
    "### - Do the minimum number of nights on a listing relate to price/availibility?\n",
    "Note: According to New York State Law, it is illegal to rent out a permanent residence dwelling for less than 30 days without the owner, resident present. Airbnb is frequently under fire for letting their hosts do exactly so.\n",
    "### - Do hosts who have been with Airbnb longer have better reviews?\n",
    "### - Do hosts with mutliple listings keep them concentrated in one location or spread out across the city?"
   ]
  },
  {
   "cell_type": "code",
   "execution_count": 2,
   "metadata": {},
   "outputs": [],
   "source": [
    "## load libraries\n",
    "import pandas as pd\n",
    "import numpy as np\n",
    "import matplotlib.pyplot as plt\n",
    "\n",
    "## load cleaned data\n",
    "airbnb = pd.read_csv(\"/Users/eliseburdette/Desktop/airbnb.csv\")\n",
    "airbnbrev = pd.read_csv(\"/Users/eliseburdette/Desktop/airbnbreviews.csv\")"
   ]
  },
  {
   "cell_type": "markdown",
   "metadata": {},
   "source": [
    "## Data Description\n",
    "\n",
    "- This data is a collection of over 45,000 observed Airbnb listings for New York City. The attributes include: the listing and its host's id numbers; the date that the host joined Airbnb; the count of each host's listings; the borough in which the listing is located and its latitude/longitude; the property type and room type of the listing; how many guests that the listing may accomodate, including bedroom and bed count; the price of the listing; the minimum number of nights that a guest must stay; the maximum number of nights that a guest may stay; how many days over the last 30, 60, 90, and 365 days that the host has made the listing available for rent; the dates of the first and latest reviews; the total guest review score; guest review scores based on cleanliness, location, and value; and the averaged number of reviews per month. <br>\n",
    "- The dataset was created by Inside Airbnb, an independent project to add data to the debates surrounding the ethicality and legality of Airbnb and its methods. Inside Airbnb is not affiliated with Airbnb, but sources all of its data from publicly available information from the Airbnb website. The dataset was created to answer fundamental questions about \"how Airbnb is really being used in cities around the world.\" Inside Airbnb seeks to make Airbnb's data more publicly accessible and scrutinizable so that the public's understanding about the company is not solely dependent upon Airbnb's claims. \n",
    "- Inside Airbnb is personally funded by Murray Cox, an Australian community activist and technologist who currently acts as the founder and chief data activist for Inside Airbnb. The dataset and collection is also funded by community donations. Murray Cox personally describes Airbnb as an \"activist platform... to help cities and communities respond to the threat of Airbnb on residential neighborhoods throughout the world.\" Inside Airbnb is not endorsed by any of Airbnb's competitors.\n",
    "- All data that was observed came straight from Airbnb's publicly available data, including current listings, the availability calendar for 365 days in the future, and reviews for each listing. Thus, the data that Airbnb chooses to make publicly available highly influences the data recorded by Inside Airbnb. Inside Airbnb claims all data is verified. Inside Airbnb's data is a snapshot of listings available at a particular time. This means that a listing is recorded based on when Inside Airbnb observes it on the Airbnb site, not as soon as the listing is made. There is likely some lag between the two.\n",
    "- Inside Airbnb disclaims that they have already done some verification, cleansing, and aggregation on the data that they provide. It uses an occupancy model called the \"San Francisco Model,\" which can be used to calculate and estimate other metrics not provided by the Airbnb site. The methodology of the model is explicitly outlined under Inside Airbnb's disclaimers. Our own preprocessing included deleting attributes that were not relevant to our research questions (like a listing's unique name or description made by the host). We also created a second data frame which only included listings with at least one review. This allowed us to drop nearly 10,000 observations that would not contribute to any analysis about guest reviews.\n",
    "- All data was collected from Airbnb's publicly available listings. Hosts creating the listings may or may not be unaware of Inside Airbnb's data collection, but all listings are uploaded and specified voluntarily by hosts in accordance with Airbnb's policies. To upload a listing, hosts agree that Airbnb will make the listing data publicly available, which hosts likely believe is to primarily find guests.\n",
    "- Raw Data Cornell Box Link: https://cornell.box.com/s/q60hl086lws4nro5pf8snqwc7pab7q5w"
   ]
  },
  {
   "cell_type": "markdown",
   "metadata": {},
   "source": [
    "## Data Limitations\n"
   ]
  },
  {
   "cell_type": "code",
   "execution_count": null,
   "metadata": {},
   "outputs": [],
   "source": []
  },
  {
   "cell_type": "code",
   "execution_count": null,
   "metadata": {},
   "outputs": [],
   "source": []
  },
  {
   "cell_type": "code",
   "execution_count": null,
   "metadata": {},
   "outputs": [],
   "source": []
  }
 ],
 "metadata": {
  "kernelspec": {
   "display_name": "Python 3",
   "language": "python",
   "name": "python3"
  },
  "language_info": {
   "codemirror_mode": {
    "name": "ipython",
    "version": 3
   },
   "file_extension": ".py",
   "mimetype": "text/x-python",
   "name": "python",
   "nbconvert_exporter": "python",
   "pygments_lexer": "ipython3",
   "version": "3.8.5"
  }
 },
 "nbformat": 4,
 "nbformat_minor": 4
}
